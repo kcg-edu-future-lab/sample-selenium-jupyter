{
 "cells": [
  {
   "cell_type": "code",
   "execution_count": 1,
   "metadata": {},
   "outputs": [
    {
     "name": "stdout",
     "output_type": "stream",
     "text": [
      "京都コンピュータ学院は日本最初のコンピュータ教育機関です\n"
     ]
    }
   ],
   "source": [
    "import os\n",
    "import sys\n",
    "from selenium import webdriver\n",
    "from selenium.webdriver.common.desired_capabilities import DesiredCapabilities\n",
    "\n",
    "driver = webdriver.Remote(\n",
    "    command_executor=\"http://selenium-chrome:4444/wd/hub\",\n",
    "    desired_capabilities=DesiredCapabilities.CHROME.copy())\n",
    "try:\n",
    "    driver.get(\"https://kcg.ac.jp/\")\n",
    "    driver.implicitly_wait(5)\n",
    "    print(driver.find_element_by_xpath(\"/html/body/div[1]/a/div\").text)\n",
    "finally:\n",
    "    driver.quit()\n",
    "    pass\n"
   ]
  },
  {
   "cell_type": "code",
   "execution_count": null,
   "metadata": {},
   "outputs": [],
   "source": []
  }
 ],
 "metadata": {
  "kernelspec": {
   "display_name": "Python 3",
   "language": "python",
   "name": "python3"
  },
  "language_info": {
   "codemirror_mode": {
    "name": "ipython",
    "version": 3
   },
   "file_extension": ".py",
   "mimetype": "text/x-python",
   "name": "python",
   "nbconvert_exporter": "python",
   "pygments_lexer": "ipython3",
   "version": "3.8.6"
  }
 },
 "nbformat": 4,
 "nbformat_minor": 4
}
